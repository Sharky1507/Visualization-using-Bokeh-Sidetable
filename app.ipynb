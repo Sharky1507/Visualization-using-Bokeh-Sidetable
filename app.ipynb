{
 "cells": [
  {
   "cell_type": "code",
   "execution_count": null,
   "metadata": {},
   "outputs": [],
   "source": [
    "import numpy as np\n",
    "import pandas as pd\n",
    "import sidetable\n",
    "from bokeh.io import output_notebook, show\n",
    "from bokeh.models import ColumnDataSource\n",
    "from bokeh.plotting import figure\n",
    "output_notebook()\n"
   ]
  },
  {
   "cell_type": "code",
   "execution_count": null,
   "metadata": {},
   "outputs": [],
   "source": [
    "## https://archive-beta.ics.uci.edu/dataset/2/adult\n",
    "df = pd.read_csv(\"usercode/dataset.data\" ,sep = ', ', engine = \"python\")\n",
    "df.head()\n"
   ]
  },
  {
   "cell_type": "code",
   "execution_count": null,
   "metadata": {},
   "outputs": [],
   "source": [
    "df.isna().sum()\n",
    "df.stb.counts()"
   ]
  },
  {
   "cell_type": "code",
   "execution_count": null,
   "metadata": {},
   "outputs": [],
   "source": [
    "df = df.replace('?',np.nan)\n",
    "\n",
    "df.dropna(inplace=True)\n",
    "df.stb.missing()\n",
    "df.stb.missing()"
   ]
  },
  {
   "cell_type": "code",
   "execution_count": null,
   "metadata": {},
   "outputs": [],
   "source": [
    "df.stb.freq([\"class\"],style = True)\n",
    "#df.columns"
   ]
  },
  {
   "cell_type": "code",
   "execution_count": null,
   "metadata": {},
   "outputs": [],
   "source": [
    "distribution = df.stb.freq(['class'])\n",
    "distribution[[\"class\",\"count\",\"percent\"]]"
   ]
  },
  {
   "cell_type": "code",
   "execution_count": null,
   "metadata": {},
   "outputs": [],
   "source": [
    "from bokeh.transform import factor_cmap\n",
    "from bokeh.palettes import Spectral6\n",
    "output = distribution['class'].to_list()\n",
    "count = distribution['count'].to_list()\n",
    "\n",
    "source = ColumnDataSource(dict(output=output,count=count))\n",
    "p = figure(x_range = output, toolbar_location = None, tools = 'hover', tooltips = \"@output:@count\",title= 'Adult Income Graph')\n",
    "p.vbar(x = 'output',top = 'count', width = 0.8, line_color = 'white',source = source, fill_color = factor_cmap('output',palette=Spectral6,factors=output))\n",
    "p.xaxis.axis_label = 'Income Status'\n",
    "p.yaxis.axis_label = \"No. of Adults\"\n",
    "show(p)\n"
   ]
  }
 ],
 "metadata": {
  "language_info": {
   "name": "python"
  }
 },
 "nbformat": 4,
 "nbformat_minor": 2
}
