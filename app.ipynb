{
 "cells": [
  {
   "cell_type": "code",
   "execution_count": null,
   "metadata": {},
   "outputs": [],
   "source": [
    "import numpy as np\n",
    "import pandas as pd\n",
    "import sidetable\n",
    "from bokeh.io import output_notebook, show\n",
    "from bokeh.models import ColumnDataSource\n",
    "from bokeh.plotting import figure\n",
    "output_notebook()\n"
   ]
  },
  {
   "cell_type": "code",
   "execution_count": null,
   "metadata": {},
   "outputs": [],
   "source": [
    "## https://archive-beta.ics.uci.edu/dataset/2/adult\n",
    "df = pd.read_csv(\"usercode/dataset.data\" ,sep = ', ', engine = \"python\")\n",
    "df.head()\n"
   ]
  },
  {
   "cell_type": "code",
   "execution_count": null,
   "metadata": {},
   "outputs": [],
   "source": [
    "df.isna().sum()\n",
    "df.stb.counts()"
   ]
  },
  {
   "cell_type": "code",
   "execution_count": null,
   "metadata": {},
   "outputs": [],
   "source": [
    "df = df.replace('?',np.nan)\n",
    "\n",
    "df.dropna(inplace=True)\n",
    "df.stb.missing()\n",
    "df.stb.missing()"
   ]
  },
  {
   "cell_type": "code",
   "execution_count": null,
   "metadata": {},
   "outputs": [],
   "source": [
    "df.stb.freq([\"class\"],style = True)\n",
    "#df.columns"
   ]
  },
  {
   "cell_type": "code",
   "execution_count": null,
   "metadata": {},
   "outputs": [],
   "source": [
    "distribution = df.stb.freq(['class'])\n",
    "distribution[[\"class\",\"count\",\"percent\"]]"
   ]
  },
  {
   "cell_type": "code",
   "execution_count": null,
   "metadata": {},
   "outputs": [],
   "source": [
    "from bokeh.transform import factor_cmap\n",
    "from bokeh.palettes import Spectral6\n",
    "output = distribution['class'].to_list()\n",
    "count = distribution['count'].to_list()\n",
    "\n",
    "source = ColumnDataSource(dict(output=output,count=count))\n",
    "p = figure(x_range = output, toolbar_location = None, tools = 'hover', tooltips = \"@output:@count\",title= 'Adult Income Graph')\n",
    "p.vbar(x = 'output',top = 'count', width = 0.8, line_color = 'white',source = source, fill_color = factor_cmap('output',palette=Spectral6,factors=output))\n",
    "p.xaxis.axis_label = 'Income Status'\n",
    "p.yaxis.axis_label = \"No. of Adults\"\n",
    "show(p)\n"
   ]
  },
  {
   "cell_type": "markdown",
   "metadata": {},
   "source": [
    "## Data Distribution in Categorical"
   ]
  },
  {
   "cell_type": "code",
   "execution_count": null,
   "metadata": {},
   "outputs": [],
   "source": [
    "df.head()\n",
    "race = df.stb.freq(['race'])\n",
    "relationship = df.stb.freq(['relationship'])\n",
    "marital_status = df.stb.freq(['marital-status'])\n",
    "workclass = df.stb.freq(['workclass'])\n",
    "occupation = df.stb.freq(['occupation'])\n",
    "education = df.stb.freq(['education'])\n",
    "education_num = df.stb.freq(['education-num'])\n",
    "print(race, '\\n', relationship, '\\n', marital_status, '\\n',workclass, '\\n',occupation,'\\n', education, '\\n', education_num)\n"
   ]
  },
  {
   "cell_type": "markdown",
   "metadata": {},
   "source": [
    "## Finding Trends and plotting multiple graphs using gridplot"
   ]
  },
  {
   "cell_type": "code",
   "execution_count": null,
   "metadata": {},
   "outputs": [],
   "source": [
    "# for multiple plots\n",
    "from bokeh.layouts import gridplot\n",
    "race_output = race['race'].to_list()\n",
    "race_count = race['count'].to_list()\n",
    "source = ColumnDataSource(dict(output =race_output,count = race_count))\n",
    "plot1 = figure(x_range = race_output,toolbar_location = None, tools = \"hover\",tooltips = '@output:@count', title = 'Race' )\n",
    "plot1.vbar(x = 'output', top = 'count', width=0.9,source = source,line_color='white', color = 'turquoise')\n",
    "plot1.xaxis.major_label_orientation = 1.1\n",
    "\n",
    "rel_output = relationship['relationship'].to_list()\n",
    "rel_count = relationship['count'].to_list()\n",
    "source1 = ColumnDataSource(dict(output =rel_output,count = rel_count))\n",
    "plot2 = figure(x_range = rel_output,toolbar_location = None,tools = \"hover\",tooltips = '@output:@count',title = \"Relationship Graph\")\n",
    "plot2.vbar(x = 'output', top = 'count', width=0.9,source = source1,line_color='white', color = 'mediumturquoise')\n",
    "plot2.xaxis.major_label_orientation = 1.1\n",
    "\n",
    "ms_output = marital_status['marital-status'].to_list()\n",
    "ms_count = marital_status['count'].to_list()\n",
    "source2 = ColumnDataSource(dict(output =ms_output,count = ms_count))\n",
    "plot3 = figure(x_range = ms_output, toolbar_location = None, tools = \"hover\", tooltips = \"@output:@count\", title = 'Marital status Graph')\n",
    "plot3.vbar(x = 'output', top = 'count', width=0.9,source = source2,line_color='white', color = 'darkturquoise')\n",
    "plot3.bxaxis.major_label_orientation = 1.1\n",
    "\n",
    "workclass_output = workclass['workclass'].to_list()\n",
    "workclass_count = workclass['count'].to_list()\n",
    "source3 = ColumnDataSource(dict(output =workclass_output,count = workclass_count))\n",
    "plot4 = figure(x_range = workclass_output, toolbar_location = None, tools = \"hover\", tooltips = \"@output:@count\", title = 'Workclass Graph')\n",
    "plot4.vbar(x = 'output', top = 'count', width=0.9,source = source3,line_color='white', color = 'lightseagreen')\n",
    "plot4.xaxis.major_label_orientation = 1.1\n",
    "\n",
    "occupation_output = occupation['occupation'].to_list()\n",
    "occupation_count = occupation['count'].to_list()\n",
    "source4 = ColumnDataSource(dict(output =occupation_output,count = occupation_count))\n",
    "plot5 = figure(x_range = occupation_output, toolbar_location = None, tools = \"hover\", tooltips = \"@output:@count\", title = 'Occupation Graph')\n",
    "plot5.vbar(x = 'output', top = 'count', width=0.9,source = source4,line_color='white', color = 'turquoise')\n",
    "plot5.xaxis.major_label_orientation = 1.1\n",
    "\n",
    "education_output = education['education'].to_list()\n",
    "education_count = education['count'].to_list()\n",
    "source5 = ColumnDataSource(dict(output =education_output,count = education_count))\n",
    "plot6 = figure(x_range = education_output, toolbar_location = None, tools = \"hover\", tooltips = \"@output:@count\", title = 'Education Graph')\n",
    "plot6.vbar(x = 'output',top = 'count',width = 0.9,source = source5,line_color = \"white\",color = 'cadetblue' )\n",
    "plot6.xaxis.major_label_orientation = 1.1\n",
    "\n",
    "education_num['education-num'] = education_num['education-num'].apply(str)\n",
    "education_n_output = education_num['education-num'].to_list()\n",
    "education_n_count = education_num['count'].to_list()\n",
    "source6 = ColumnDataSource(dict(output =education_n_output,count = education_n_count))\n",
    "plot7 = figure(x_range = education_n_output, toolbar_location = None, tools = \"hover\", tooltips = \"@output:@count\", title = 'Education_num Graph')\n",
    "plot7.vbar(x = 'output', top = 'count', width=0.9,source = source6,line_color='white', color = 'darkcyan')\n",
    "plot7.xaxis.major_label_orientation = 1.1\n",
    "\n",
    "\n",
    "gridplot_output = gridplot([[plot1,plot2],[plot3,plot4],[plot5,plot6],[plot7]], toolbar_location = None)\n",
    "\n",
    "show(gridplot_output)\n"
   ]
  },
  {
   "cell_type": "code",
   "execution_count": null,
   "metadata": {},
   "outputs": [],
   "source": []
  },
  {
   "cell_type": "code",
   "execution_count": null,
   "metadata": {},
   "outputs": [],
   "source": [
    "p = figure()\n",
    "p.circle(df['hours-per-week'],df['capital-gain'],size = 10,color = 'green')\n",
    "p.yaxis.formatter.use_scientific = False\n",
    "show(p)"
   ]
  }
 ],
 "metadata": {
  "language_info": {
   "name": "python"
  }
 },
 "nbformat": 4,
 "nbformat_minor": 2
}
